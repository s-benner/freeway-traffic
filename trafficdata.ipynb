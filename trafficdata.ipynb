{
 "cells": [
  {
   "cell_type": "markdown",
   "metadata": {},
   "source": [
    "# Introduction\n",
    "\n",
    "This notebook contains a data analysis project related to traffic count on the German freeway system. This is a purely recreational project that I created with the intent of learning data analysis methodologies with a practical example.\n",
    "\n",
    "The data used in this notebook was obtained from the \"Bundesanstalt für Straßenwesen\" webiste, www.bast.de. The website provides hourly data on all automated traffic counting stations on the German freeway system (\"Autobahn\"). This is used as the raw data for this project. The raw data file is farily large at around 1.6GB, which is an additional challenge in this analysis.\n",
    "\n",
    "The data used is from 2018, because at this moment the 2019 data was not available yet. However, this notebook can easily be changed to work with more recent data later.\n",
    "\n",
    "The focus of this workbook is data exploration and visualization. Since the data is provided, the sourcing data part of this project is very simple and easy. Also, I will not be using the data to make any kinds of prediction (at this point in time at least)\n",
    "\n",
    "So this project focused on the these main activities:\n",
    "\n",
    "    - Analysis of the structural elements of the data provided\n",
    "    - Cleaning of the raw data, modifying the data to meet the needs of the analysis\n",
    "    - Analysing and visualizing interesting aspects of the data"
   ]
  },
  {
   "cell_type": "markdown",
   "metadata": {},
   "source": [
    "The following cell contains code that we need to rerun when we come back to this notebook. The rest of the cell only needs to be run, if the content shall be executed again."
   ]
  },
  {
   "cell_type": "code",
   "execution_count": 1,
   "metadata": {},
   "outputs": [],
   "source": [
    "import pandas as pd\n",
    "import os\n",
    "\n",
    "year = \"2018\""
   ]
  },
  {
   "cell_type": "markdown",
   "metadata": {},
   "source": [
    "Note: In all code cells that have code that takes long to execute or performs a task that should not be repeated, there is a variable called breaker that is set to True as the default value. If such a cell is to be executed, then breaker needs to be set to False manually. This is done to not have cells rerun that take a long time to execute."
   ]
  },
  {
   "cell_type": "markdown",
   "metadata": {},
   "source": [
    "## Section 1: Structural analysis of the data"
   ]
  },
  {
   "cell_type": "markdown",
   "metadata": {},
   "source": [
    "### Step 1.1: Size and shape of the dataset\n",
    "\n",
    "The data is provided as a .txt file, so first of all I am checking the format of the data in the file, to see if the data is in a usable CSV-type fromat, that can easily be read in."
   ]
  },
  {
   "cell_type": "code",
   "execution_count": 2,
   "metadata": {},
   "outputs": [
    {
     "name": "stdout",
     "output_type": "stream",
     "text": [
      "TKNR;Zst;Land;Strklas;Strnum;Datum;Wotag;Fahrtzw;Stunde;KFZ_R1;K_KFZ_R1;KFZ_R2;K_KFZ_R2;Lkw_R1;K_Lkw_R1;Lkw_R2;K_Lkw_R2;PLZ_R1;K_PLZ_R1;Pkw_R1;K_Pkw_R1;Lfw_R1;K_Lfw_R1;Mot_R1;K_Mot_R1;PmA_R1;K_PmA_R1;Bus_R1;K_Bus_R1;LoA_R1;K_LoA_R1;Lzg_R1;K_Lzg_R1;Sat_R1;K_Sat_R1;Son_R1;K_Son_R1;PLZ_R2;K_PLZ_R2;Pkw_R2;K_Pkw_R2;Lfw_R2;K_Lfw_R2;Mot_R2;K_Mot_R2;PmA_R2;K_PmA_R2;Bus_R2;K_Bus_R2;LoA_R2;K_LoA_R2;Lzg_R2;K_Lzg_R2;Sat_R2;K_Sat_R2;Son_R2;K_Son_R2\n",
      "\n",
      "5329;4382;16;A;  73;180101; 1;s;01;   11;-;    7;-;    1;-;    1;-;    9;-;    9;-;    0;-;    0;-;    0;-;    0;-;    1;-;    0;-;    0;-;    1;-;    6;-;    5;-;    1;-;    0;-;    0;-;    0;-;    1;-;    0;-;    0;-;    0;-\n",
      "\n",
      "5329;4382;16;A;  73;180101; 1;s;02;   27;-;   33;-;    1;-;    1;-;   25;-;   23;-;    2;-;    0;-;    0;-;    0;-;    1;-;    0;-;    0;-;    1;-;   31;-;   29;-;    2;-;    0;-;    0;-;    0;-;    0;-;    1;-;    1;-;    1;-\n",
      "\n",
      "5329;4382;16;A;  73;180101; 1;s;03;   18;-;   27;-;    1;-;    1;-;   17;-;   17;-;    0;-;    0;-;    0;-;    0;-;    1;-;    0;-;    0;-;    0;-;   25;-;   23;-;    2;-;    0;-;    0;-;    1;-;    0;-;    0;-;    0;-;    1;-\n",
      "\n",
      "5329;4382;16;A;  73;180101; 1;s;04;   22;-;   28;-;    0;-;    2;-;   21;-;   19;-;    1;-;    1;-;    0;-;    0;-;    0;-;    0;-;    0;-;    1;-;   25;-;   23;-;    2;-;    0;-;    1;-;    0;-;    2;-;    0;-;    0;-;    0;-\n",
      "\n"
     ]
    }
   ],
   "source": [
    "filename = year+\"_A_S.txt\"\n",
    "file = open(filename, 'r')\n",
    "number_of_lines = 5\n",
    "line_number = 0\n",
    "\n",
    "for line in file:\n",
    "    print(line)\n",
    "    line_number += 1\n",
    "    if line_number >= number_of_lines: break;\n",
    "        \n",
    "file.close()"
   ]
  },
  {
   "cell_type": "markdown",
   "metadata": {},
   "source": [
    "By looking at the first 5 lines of the file I can see that the data is provided in a CSV-line format, using \";\" as the separator. Therefore I should be able to import the data directly into da dataframe. "
   ]
  },
  {
   "cell_type": "code",
   "execution_count": 8,
   "metadata": {},
   "outputs": [
    {
     "name": "stdout",
     "output_type": "stream",
     "text": [
      "Code not executed, because breaker is set!\n"
     ]
    }
   ],
   "source": [
    "#This variable is used to block the code execution if \"execute all\" should be selected. To run this code, breaker needs to be set to false manually\n",
    "breaker = True\n",
    "\n",
    "if breaker == False:\n",
    "    file = open(filename, 'r')\n",
    "    number_of_lines = sum(1 for line in file)\n",
    "    print(\"The file contains \" + str(number_of_lines) +\" lines!\")\n",
    "    file.close()\n",
    "else:\n",
    "    print(\"Code not executed, because breaker is set!\")"
   ]
  },
  {
   "cell_type": "markdown",
   "metadata": {},
   "source": [
    "I just counted the lines in the source file. It is pretty much, therefore I decided to split the file into monthly data before starting to work with the data."
   ]
  },
  {
   "cell_type": "markdown",
   "metadata": {},
   "source": [
    "### Step 1.2: Importing the data into a dataframe and reviewing the dataframe using the head method"
   ]
  },
  {
   "cell_type": "markdown",
   "metadata": {},
   "source": [
    "Because the raw data is so huge, in the following I will split the data into monthly packages that can be analysed separately. Anything that I do later then needs to be done in a loop over 12 monthly files, however this should be much easier on memory usage and works much faster during the development process.\n",
    "\n",
    "If needed, I will create yearly dataframes with only the data I need for yearly anaylses later, that cannot be composed of the monthly data."
   ]
  },
  {
   "cell_type": "code",
   "execution_count": 8,
   "metadata": {},
   "outputs": [
    {
     "name": "stdout",
     "output_type": "stream",
     "text": [
      "File for month 1 already exists!\n",
      "File for month 2 already exists!\n",
      "File for month 3 already exists!\n",
      "File for month 4 already exists!\n",
      "File for month 5 already exists!\n",
      "File for month 6 already exists!\n",
      "File for month 7 already exists!\n",
      "File for month 8 already exists!\n",
      "File for month 9 already exists!\n",
      "File for month 10 already exists!\n",
      "File for month 11 already exists!\n",
      "File for month 12 already exists!\n",
      "Files created!\n"
     ]
    }
   ],
   "source": [
    "#obtain the headline, that will be needed in all the subfiles\n",
    "file = open(filename, 'r')\n",
    "headline = file.readline()\n",
    "\n",
    "#from checking the first few lines earlier, it can easily be seen that the date is the 6th entry in each line\n",
    "#this element needs to be split to obtain the month information, it has the format YYMMDD\n",
    "\n",
    "#create monthly files if they don't exist\n",
    "\n",
    "for i in range(1,13):\n",
    "    if os.path.isfile(year+\"_\"+str(i)+\".txt\"):\n",
    "        print(\"File for month \"+str(i)+\" already exists!\")\n",
    "        continue\n",
    "    file = open(year+\"_\"+str(i)+\".txt\", \"w+\")\n",
    "    file.write(headline)\n",
    "    file.close()\n",
    "    \n",
    "print(\"Files created!\")"
   ]
  },
  {
   "cell_type": "code",
   "execution_count": 5,
   "metadata": {},
   "outputs": [
    {
     "name": "stdout",
     "output_type": "stream",
     "text": [
      "Code not executed, because breaker is set!\n"
     ]
    }
   ],
   "source": [
    "#i start with month january (01).\n",
    "#i print a progress statement every 100000 line to see that the script is running (it may take a while)\n",
    "\n",
    "current_month = 0\n",
    "line_count = 0\n",
    "file = open(filename, 'r')\n",
    "headline = file.readline()\n",
    "subfile = open(year+\"_1.txt\")\n",
    "#This variable is used to block the code execution if \"execute all\" should be selected. To run this code, breaker needs to be set to false manually\n",
    "breaker = True\n",
    "\n",
    "if breaker == False:\n",
    "    for line in file:\n",
    "        splitted_line = line.split(\";\")\n",
    "        month = int(splitted_line[5][2:4])\n",
    "        #if the month is different than the month before, the file is closed and the appropriate file is opened\n",
    "        if not int(month) == current_month:\n",
    "            subfile.close()\n",
    "            subfile = open(year+\"_\"+str(month)+\".txt\", \"a\")\n",
    "            current_month = int(month)\n",
    "        subfile.write(line)\n",
    "        line_count += 1\n",
    "        if line_count % 100000 == 0: print(str(line_count) + \" lines processed!             \\r\")\n",
    "\n",
    "    subfile.close()\n",
    "    print(\"\")\n",
    "    print(\"File split completed!\")\n",
    "    \n",
    "else:\n",
    "    print(\"Code not executed, because breaker is set!\")"
   ]
  },
  {
   "cell_type": "markdown",
   "metadata": {},
   "source": [
    "Now I will take a look at the january file manually to get a better understanding of the data I am dealing with. In order to do that, I am importing the data into a dataframe."
   ]
  },
  {
   "cell_type": "code",
   "execution_count": 6,
   "metadata": {},
   "outputs": [
    {
     "data": {
      "text/html": [
       "<div>\n",
       "<style scoped>\n",
       "    .dataframe tbody tr th:only-of-type {\n",
       "        vertical-align: middle;\n",
       "    }\n",
       "\n",
       "    .dataframe tbody tr th {\n",
       "        vertical-align: top;\n",
       "    }\n",
       "\n",
       "    .dataframe thead th {\n",
       "        text-align: right;\n",
       "    }\n",
       "</style>\n",
       "<table border=\"1\" class=\"dataframe\">\n",
       "  <thead>\n",
       "    <tr style=\"text-align: right;\">\n",
       "      <th></th>\n",
       "      <th>TKNR</th>\n",
       "      <th>Zst</th>\n",
       "      <th>Land</th>\n",
       "      <th>Strklas</th>\n",
       "      <th>Strnum</th>\n",
       "      <th>Datum</th>\n",
       "      <th>Wotag</th>\n",
       "      <th>Fahrtzw</th>\n",
       "      <th>Stunde</th>\n",
       "      <th>KFZ_R1</th>\n",
       "      <th>...</th>\n",
       "      <th>Bus_R2</th>\n",
       "      <th>K_Bus_R2</th>\n",
       "      <th>LoA_R2</th>\n",
       "      <th>K_LoA_R2</th>\n",
       "      <th>Lzg_R2</th>\n",
       "      <th>K_Lzg_R2</th>\n",
       "      <th>Sat_R2</th>\n",
       "      <th>K_Sat_R2</th>\n",
       "      <th>Son_R2</th>\n",
       "      <th>K_Son_R2</th>\n",
       "    </tr>\n",
       "  </thead>\n",
       "  <tbody>\n",
       "    <tr>\n",
       "      <th>0</th>\n",
       "      <td>5329</td>\n",
       "      <td>4382</td>\n",
       "      <td>16</td>\n",
       "      <td>A</td>\n",
       "      <td>73</td>\n",
       "      <td>180101</td>\n",
       "      <td>1</td>\n",
       "      <td>s</td>\n",
       "      <td>1</td>\n",
       "      <td>11</td>\n",
       "      <td>...</td>\n",
       "      <td>0</td>\n",
       "      <td>-</td>\n",
       "      <td>1</td>\n",
       "      <td>-</td>\n",
       "      <td>0</td>\n",
       "      <td>-</td>\n",
       "      <td>0</td>\n",
       "      <td>-</td>\n",
       "      <td>0</td>\n",
       "      <td>-</td>\n",
       "    </tr>\n",
       "    <tr>\n",
       "      <th>1</th>\n",
       "      <td>5329</td>\n",
       "      <td>4382</td>\n",
       "      <td>16</td>\n",
       "      <td>A</td>\n",
       "      <td>73</td>\n",
       "      <td>180101</td>\n",
       "      <td>1</td>\n",
       "      <td>s</td>\n",
       "      <td>2</td>\n",
       "      <td>27</td>\n",
       "      <td>...</td>\n",
       "      <td>0</td>\n",
       "      <td>-</td>\n",
       "      <td>0</td>\n",
       "      <td>-</td>\n",
       "      <td>1</td>\n",
       "      <td>-</td>\n",
       "      <td>1</td>\n",
       "      <td>-</td>\n",
       "      <td>1</td>\n",
       "      <td>-</td>\n",
       "    </tr>\n",
       "    <tr>\n",
       "      <th>2</th>\n",
       "      <td>5329</td>\n",
       "      <td>4382</td>\n",
       "      <td>16</td>\n",
       "      <td>A</td>\n",
       "      <td>73</td>\n",
       "      <td>180101</td>\n",
       "      <td>1</td>\n",
       "      <td>s</td>\n",
       "      <td>3</td>\n",
       "      <td>18</td>\n",
       "      <td>...</td>\n",
       "      <td>1</td>\n",
       "      <td>-</td>\n",
       "      <td>0</td>\n",
       "      <td>-</td>\n",
       "      <td>0</td>\n",
       "      <td>-</td>\n",
       "      <td>0</td>\n",
       "      <td>-</td>\n",
       "      <td>1</td>\n",
       "      <td>-</td>\n",
       "    </tr>\n",
       "    <tr>\n",
       "      <th>3</th>\n",
       "      <td>5329</td>\n",
       "      <td>4382</td>\n",
       "      <td>16</td>\n",
       "      <td>A</td>\n",
       "      <td>73</td>\n",
       "      <td>180101</td>\n",
       "      <td>1</td>\n",
       "      <td>s</td>\n",
       "      <td>4</td>\n",
       "      <td>22</td>\n",
       "      <td>...</td>\n",
       "      <td>0</td>\n",
       "      <td>-</td>\n",
       "      <td>2</td>\n",
       "      <td>-</td>\n",
       "      <td>0</td>\n",
       "      <td>-</td>\n",
       "      <td>0</td>\n",
       "      <td>-</td>\n",
       "      <td>0</td>\n",
       "      <td>-</td>\n",
       "    </tr>\n",
       "    <tr>\n",
       "      <th>4</th>\n",
       "      <td>5329</td>\n",
       "      <td>4382</td>\n",
       "      <td>16</td>\n",
       "      <td>A</td>\n",
       "      <td>73</td>\n",
       "      <td>180101</td>\n",
       "      <td>1</td>\n",
       "      <td>s</td>\n",
       "      <td>5</td>\n",
       "      <td>16</td>\n",
       "      <td>...</td>\n",
       "      <td>0</td>\n",
       "      <td>-</td>\n",
       "      <td>1</td>\n",
       "      <td>-</td>\n",
       "      <td>0</td>\n",
       "      <td>-</td>\n",
       "      <td>0</td>\n",
       "      <td>-</td>\n",
       "      <td>1</td>\n",
       "      <td>-</td>\n",
       "    </tr>\n",
       "  </tbody>\n",
       "</table>\n",
       "<p>5 rows × 57 columns</p>\n",
       "</div>"
      ],
      "text/plain": [
       "   TKNR   Zst  Land Strklas  Strnum   Datum  Wotag Fahrtzw  Stunde  KFZ_R1  \\\n",
       "0  5329  4382    16       A      73  180101      1       s       1      11   \n",
       "1  5329  4382    16       A      73  180101      1       s       2      27   \n",
       "2  5329  4382    16       A      73  180101      1       s       3      18   \n",
       "3  5329  4382    16       A      73  180101      1       s       4      22   \n",
       "4  5329  4382    16       A      73  180101      1       s       5      16   \n",
       "\n",
       "   ... Bus_R2  K_Bus_R2 LoA_R2  K_LoA_R2 Lzg_R2  K_Lzg_R2 Sat_R2  K_Sat_R2  \\\n",
       "0  ...      0         -      1         -      0         -      0         -   \n",
       "1  ...      0         -      0         -      1         -      1         -   \n",
       "2  ...      1         -      0         -      0         -      0         -   \n",
       "3  ...      0         -      2         -      0         -      0         -   \n",
       "4  ...      0         -      1         -      0         -      0         -   \n",
       "\n",
       "  Son_R2  K_Son_R2  \n",
       "0      0         -  \n",
       "1      1         -  \n",
       "2      1         -  \n",
       "3      0         -  \n",
       "4      1         -  \n",
       "\n",
       "[5 rows x 57 columns]"
      ]
     },
     "execution_count": 6,
     "metadata": {},
     "output_type": "execute_result"
    }
   ],
   "source": [
    "df = pd.read_csv(year+\"_1.txt\", sep=\";\")\n",
    "df.head()"
   ]
  },
  {
   "cell_type": "code",
   "execution_count": 7,
   "metadata": {},
   "outputs": [
    {
     "name": "stdout",
     "output_type": "stream",
     "text": [
      "The dataframe has 629424 rows!\n"
     ]
    }
   ],
   "source": [
    "print(\"The dataframe has \"+str(len(df.index))+\" rows!\")\n",
    "del df"
   ]
  },
  {
   "cell_type": "markdown",
   "metadata": {},
   "source": [
    "The monthly file is still quite big, but we should be able to work with it quite well. There are 57 columns in the dataframe, of which we probably don't need all. We will take a closer look at the colums we need later."
   ]
  },
  {
   "cell_type": "markdown",
   "metadata": {},
   "source": [
    "### Step 1.3: Check for non-exisiting values (nan)"
   ]
  },
  {
   "cell_type": "markdown",
   "metadata": {},
   "source": [
    "As a first step, I will check if there are any missing values in the data, which we need to fix first."
   ]
  },
  {
   "cell_type": "code",
   "execution_count": 3,
   "metadata": {},
   "outputs": [
    {
     "name": "stdout",
     "output_type": "stream",
     "text": [
      "Data for month 1 has NO nan values!\n",
      "Data for month 2 has NO nan values!\n",
      "Data for month 3 has NO nan values!\n",
      "Data for month 4 has NO nan values!\n",
      "Data for month 5 has NO nan values!\n",
      "Data for month 6 has NO nan values!\n",
      "Data for month 7 has NO nan values!\n",
      "Data for month 8 has NO nan values!\n",
      "Data for month 9 has NO nan values!\n",
      "Data for month 10 has NO nan values!\n",
      "Data for month 11 has NO nan values!\n",
      "Data for month 12 has NO nan values!\n",
      "nan check complete!\n"
     ]
    }
   ],
   "source": [
    "#This variable is used to block the code execution if \"execute all\" should be selected. To run this code, breaker needs to be set to false manually\n",
    "breaker = True\n",
    "\n",
    "if breaker == False:\n",
    "    for month in range (1,13):\n",
    "        df = pd.read_csv(\"\"+year+\"_\"+str(month)+\".txt\", sep=\";\")\n",
    "        has_nan = df.isnull().values.any()\n",
    "        if has_nan:\n",
    "            print(\"Data for month \" + str(month) + \" has nan values!\")\n",
    "        else:\n",
    "            print(\"Data for month \" + str(month) + \" has NO nan values!\")\n",
    "        del df\n",
    "    \n",
    "    print(\"nan check complete!\")\n",
    "else:\n",
    "    print(\"Code not executed, because breaker is set!\")"
   ]
  },
  {
   "cell_type": "markdown",
   "metadata": {},
   "source": [
    "OK good, no nan values that I need to deal with for the moment. That was sort of expected, as the source of the data states, that missing data has already been estimated before publishing, however it is always good to make sure and check."
   ]
  },
  {
   "cell_type": "markdown",
   "metadata": {},
   "source": [
    "### Step 1.4: Available data"
   ]
  },
  {
   "cell_type": "markdown",
   "metadata": {},
   "source": [
    "Finally, I want to find out how many sample point (traffic counting points) are reflected in the data and how many motoways have any sample points at all."
   ]
  },
  {
   "cell_type": "code",
   "execution_count": 9,
   "metadata": {},
   "outputs": [
    {
     "name": "stdout",
     "output_type": "stream",
     "text": [
      "Empty DataFrame\n",
      "Columns: [sample_points, motorways]\n",
      "Index: []\n",
      "Grouping complete!\n"
     ]
    }
   ],
   "source": [
    "dataframe_result = pd.DataFrame(columns=[\"sample_points\",\"motorways\"])\n",
    "    \n",
    "print(dataframe_result)\n",
    "print(\"Grouping complete!\")\n",
    "del dataframe_result"
   ]
  },
  {
   "cell_type": "code",
   "execution_count": null,
   "metadata": {},
   "outputs": [],
   "source": []
  }
 ],
 "metadata": {
  "kernelspec": {
   "display_name": "Python 3",
   "language": "python",
   "name": "python3"
  },
  "language_info": {
   "codemirror_mode": {
    "name": "ipython",
    "version": 3
   },
   "file_extension": ".py",
   "mimetype": "text/x-python",
   "name": "python",
   "nbconvert_exporter": "python",
   "pygments_lexer": "ipython3",
   "version": "3.8.1"
  }
 },
 "nbformat": 4,
 "nbformat_minor": 4
}
